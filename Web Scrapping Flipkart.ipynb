{
 "cells": [
  {
   "cell_type": "code",
   "execution_count": 1,
   "id": "2afb8e42",
   "metadata": {},
   "outputs": [],
   "source": [
    "import pandas as pd\n",
    "import requests\n",
    "from bs4 import BeautifulSoup"
   ]
  },
  {
   "cell_type": "code",
   "execution_count": 2,
   "id": "95e10e02",
   "metadata": {},
   "outputs": [],
   "source": [
    "url=\"https://www.flipkart.com/search?q=mobiles+under+20000+5g&sid=tyy%2C4io&as=on&as-show=on&otracker=AS_QueryStore_OrganicAutoSuggest_1_18_na_na_na&otracker1=AS_QueryStore_OrganicAutoSuggest_1_18_na_na_na&as-pos=1&as-type=RECENT&suggestionId=mobiles+under+20000+5g%7CMobiles&requestId=3fa52b9c-57ba-4371-97fa-1ad664a5f0be&as-searchtext=mobiles+under+2000&page=1\""
   ]
  },
  {
   "cell_type": "code",
   "execution_count": null,
   "id": "f9e28bd3",
   "metadata": {},
   "outputs": [],
   "source": [
    "webpage=requests.get(url)\n",
    "webpage"
   ]
  },
  {
   "cell_type": "code",
   "execution_count": 13,
   "id": "1c07a372",
   "metadata": {},
   "outputs": [],
   "source": [
    "soup=BeautifulSoup(webpage.text,\"html.parser\")"
   ]
  },
  {
   "cell_type": "markdown",
   "id": "2ea9f3ef",
   "metadata": {},
   "source": [
    "while True:\n",
    "    np=soup.find(\"a\",class_=\"_9QVEpD\",string=\"Next\").get(\"href\")\n",
    "    \n",
    "    link_next=\"https://www.flipkart.com\"+np\n",
    "    \n",
    "    url=link_next\n",
    "    \n",
    "    print(url)\n",
    "    \n",
    "    webpage=requests.get(url)\n",
    "    \n",
    "    soup=BeautifulSoup(webpage.text,\"html.parser\")"
   ]
  },
  {
   "cell_type": "code",
   "execution_count": 14,
   "id": "25201464",
   "metadata": {},
   "outputs": [],
   "source": [
    "url=\"https://www.flipkart.com/search?q=mobiles+under+20000+5g&sid=tyy%2C4io&as=on&as-show=on&otracker=AS_QueryStore_OrganicAutoSuggest_1_18_na_na_na&otracker1=AS_QueryStore_OrganicAutoSuggest_1_18_na_na_na&as-pos=1&as-type=RECENT&suggestionId=mobiles+under+20000+5g%7CMobiles&requestId=3fa52b9c-57ba-4371-97fa-1ad664a5f0be&as-searchtext=mobiles+under+2000&page=\"+str(1)"
   ]
  },
  {
   "cell_type": "code",
   "execution_count": 15,
   "id": "ed132ac5",
   "metadata": {},
   "outputs": [],
   "source": [
    "webpage=requests.get(url)"
   ]
  },
  {
   "cell_type": "code",
   "execution_count": 16,
   "id": "bc24e139",
   "metadata": {},
   "outputs": [],
   "source": [
    "product_name=[]\n",
    "prices=[]\n",
    "Description=[]\n",
    "rewiew=[]"
   ]
  },
  {
   "cell_type": "code",
   "execution_count": 17,
   "id": "950805fb",
   "metadata": {
    "scrolled": true
   },
   "outputs": [],
   "source": [
    "soup=BeautifulSoup(webpage.text,\"html\")"
   ]
  },
  {
   "cell_type": "code",
   "execution_count": 18,
   "id": "8b4161d9",
   "metadata": {},
   "outputs": [
    {
     "data": {
      "text/plain": [
       "'POCO C75 5G (Aqua Bliss, 64 GB)'"
      ]
     },
     "execution_count": 18,
     "metadata": {},
     "output_type": "execute_result"
    }
   ],
   "source": [
    "soup.find(\"div\",class_=\"KzDlHZ\").text"
   ]
  },
  {
   "cell_type": "code",
   "execution_count": 19,
   "id": "f8c87b7c",
   "metadata": {},
   "outputs": [
    {
     "data": {
      "text/plain": [
       "['POCO C75 5G (Aqua Bliss, 64 GB)',\n",
       " 'Infinix Note 40 5G (Racing Grey, 256 GB)',\n",
       " 'Motorola G85 5G (Olive Green, 128 GB)',\n",
       " 'Motorola g64 5G (Mint Green, 256 GB)',\n",
       " 'Infinix Note 40X 5G (Lime Green, 256 GB)',\n",
       " 'POCO C75 5G (Silver Stardust, 64 GB)',\n",
       " 'Motorola G85 5G (Viva Magenta, 128 GB)',\n",
       " 'Motorola g64 5G (Berry Red, 256 GB)',\n",
       " 'Motorola g64 5G (Pearl Blue, 256 GB)',\n",
       " 'Motorola G85 5G (Cobalt Blue, 256 GB)',\n",
       " 'POCO C75 5G (Enchanted Green, 64 GB)',\n",
       " 'realme 14 Pro+ 5G (Pearl White, 128 GB)',\n",
       " 'realme P1 5G (Peacock Green, 256 GB)',\n",
       " 'vivo T3 5G (Crystal Flake, 128 GB)',\n",
       " 'REDMI Note 13 5G (Chromatic Purple, 256 GB)',\n",
       " 'OnePlus Nord CE 3 Lite 5G (Pastel Lime, 128 GB)',\n",
       " 'OPPO Reno13 5G (Luminous Blue, 128 GB)',\n",
       " 'Motorola G85 5G (Cobalt Blue, 128 GB)',\n",
       " 'Motorola G85 5G (Urban Grey, 128 GB)',\n",
       " 'Motorola g64 5G (Ice Lilac, 256 GB)',\n",
       " 'Motorola G85 5G (Olive Green, 256 GB)',\n",
       " 'realme P2 Pro 5G (Eagle Grey, 128 GB)',\n",
       " 'realme P1 5G (Feather Blue, 256 GB)',\n",
       " 'OnePlus Nord CE 3 Lite 5G (Chromatic Gray, 128 GB)']"
      ]
     },
     "execution_count": 19,
     "metadata": {},
     "output_type": "execute_result"
    }
   ],
   "source": [
    "names=soup.find_all(\"div\",class_=\"KzDlHZ\")\n",
    "for i in names:\n",
    "    name=i.text\n",
    "    product_name.append(name)\n",
    "product_name"
   ]
  },
  {
   "cell_type": "code",
   "execution_count": 20,
   "id": "8dbe3636",
   "metadata": {},
   "outputs": [
    {
     "data": {
      "text/plain": [
       "24"
      ]
     },
     "execution_count": 20,
     "metadata": {},
     "output_type": "execute_result"
    }
   ],
   "source": [
    "box=soup.find(\"div\",class_=\"DOjaWF gdgoEp\")\n",
    "price=box.find_all(\"div\",class_=\"Nx9bqj _4b5DiR\")\n",
    "for i in price:\n",
    "    prices.append(i.text)\n",
    "len(prices)"
   ]
  },
  {
   "cell_type": "code",
   "execution_count": 21,
   "id": "783d5be4",
   "metadata": {},
   "outputs": [
    {
     "data": {
      "text/plain": [
       "24"
      ]
     },
     "execution_count": 21,
     "metadata": {},
     "output_type": "execute_result"
    }
   ],
   "source": [
    "box=soup.find(\"div\",class_=\"DOjaWF gdgoEp\")\n",
    "des=box.find_all(\"div\",class_=\"_6NESgJ\")\n",
    "for i in des:\n",
    "    Description.append(i.text)\n",
    "len(Description)"
   ]
  },
  {
   "cell_type": "code",
   "execution_count": 22,
   "id": "6d841329",
   "metadata": {},
   "outputs": [
    {
     "data": {
      "text/plain": [
       "['4.3',\n",
       " '4.2',\n",
       " '4.5',\n",
       " '4.2',\n",
       " '4.3',\n",
       " '4.3',\n",
       " '4.5',\n",
       " '4.2',\n",
       " '4.2',\n",
       " '4.4',\n",
       " '4.3',\n",
       " '4.5',\n",
       " '4.4',\n",
       " '4.4',\n",
       " '4.2',\n",
       " '4.4',\n",
       " '4.4',\n",
       " '4.5',\n",
       " '4.5',\n",
       " '4.2',\n",
       " '4.4',\n",
       " '4.4',\n",
       " '4.4',\n",
       " '4.4']"
      ]
     },
     "execution_count": 22,
     "metadata": {},
     "output_type": "execute_result"
    }
   ],
   "source": [
    "box=soup.find(\"div\",class_=\"DOjaWF gdgoEp\")\n",
    "reviews=box.find_all(\"div\",class_=\"XQDdHH\")\n",
    "for i in reviews:\n",
    "    rewiew.append(i.text)\n",
    "rewiew"
   ]
  },
  {
   "cell_type": "code",
   "execution_count": 23,
   "id": "d179b458",
   "metadata": {},
   "outputs": [],
   "source": [
    "df1=pd.DataFrame({\"Product_name\":product_name,\"Description\":Description,\"Rating\":rewiew,\"Prices\":prices})"
   ]
  },
  {
   "cell_type": "code",
   "execution_count": 24,
   "id": "311cb1dd",
   "metadata": {},
   "outputs": [],
   "source": [
    "for i in range(2,8):\n",
    "    url=\"https://www.flipkart.com/search?q=mobiles+under+20000+5g&sid=tyy%2C4io&as=on&as-show=on&otracker=AS_QueryStore_OrganicAutoSuggest_1_18_na_na_na&otracker1=AS_QueryStore_OrganicAutoSuggest_1_18_na_na_na&as-pos=1&as-type=RECENT&suggestionId=mobiles+under+20000+5g%7CMobiles&requestId=3fa52b9c-57ba-4371-97fa-1ad664a5f0be&as-searchtext=mobiles+under+2000&page=\"+str(i)\n",
    "    webpage=requests.get(url)\n",
    "    soup=BeautifulSoup(webpage.text,\"html.parser\")\n",
    "    \n",
    "    names=soup.find_all(\"div\",class_=\"KzDlHZ\")\n",
    "    for i in names:\n",
    "        name=i.text\n",
    "        product_name.append(name)\n",
    "        \n",
    "    box=soup.find(\"div\",class_=\"DOjaWF gdgoEp\")\n",
    "    price=box.find_all(\"div\",class_=\"Nx9bqj _4b5DiR\")\n",
    "    for i in price:\n",
    "        prices.append(i.text)\n",
    "    \n",
    "    box=soup.find(\"div\",class_=\"DOjaWF gdgoEp\")\n",
    "    des=box.find_all(\"div\",class_=\"_6NESgJ\")\n",
    "    for i in des:\n",
    "        Description.append(i.text)\n",
    "    \n",
    "    box=soup.find(\"div\",class_=\"DOjaWF gdgoEp\")\n",
    "    reviews=box.find_all(\"div\",class_=\"XQDdHH\")\n",
    "    for i in reviews:\n",
    "        rewiew.append(i.text)"
   ]
  },
  {
   "cell_type": "code",
   "execution_count": 36,
   "id": "9013f82c",
   "metadata": {},
   "outputs": [
    {
     "data": {
      "text/html": [
       "<div>\n",
       "<style scoped>\n",
       "    .dataframe tbody tr th:only-of-type {\n",
       "        vertical-align: middle;\n",
       "    }\n",
       "\n",
       "    .dataframe tbody tr th {\n",
       "        vertical-align: top;\n",
       "    }\n",
       "\n",
       "    .dataframe thead th {\n",
       "        text-align: right;\n",
       "    }\n",
       "</style>\n",
       "<table border=\"1\" class=\"dataframe\">\n",
       "  <thead>\n",
       "    <tr style=\"text-align: right;\">\n",
       "      <th></th>\n",
       "      <th>Product_name</th>\n",
       "      <th>Description</th>\n",
       "      <th>Rating</th>\n",
       "      <th>Prices</th>\n",
       "    </tr>\n",
       "  </thead>\n",
       "  <tbody>\n",
       "    <tr>\n",
       "      <th>0</th>\n",
       "      <td>POCO C75 5G (Aqua Bliss, 64 GB)</td>\n",
       "      <td>4 GB RAM | 64 GB ROM | Expandable Upto 1 TB17....</td>\n",
       "      <td>4.3</td>\n",
       "      <td>₹8,499</td>\n",
       "    </tr>\n",
       "    <tr>\n",
       "      <th>1</th>\n",
       "      <td>Infinix Note 40 5G (Racing Grey, 256 GB)</td>\n",
       "      <td>8 GB RAM | 256 GB ROM17.22 cm (6.78 inch) Full...</td>\n",
       "      <td>4.2</td>\n",
       "      <td>₹15,999</td>\n",
       "    </tr>\n",
       "    <tr>\n",
       "      <th>2</th>\n",
       "      <td>Motorola G85 5G (Olive Green, 128 GB)</td>\n",
       "      <td>8 GB RAM | 128 GB ROM16.94 cm (6.67 inch) Full...</td>\n",
       "      <td>4.5</td>\n",
       "      <td>₹17,999</td>\n",
       "    </tr>\n",
       "    <tr>\n",
       "      <th>3</th>\n",
       "      <td>Motorola g64 5G (Mint Green, 256 GB)</td>\n",
       "      <td>12 GB RAM | 256 GB ROM | Expandable Upto 1 TB1...</td>\n",
       "      <td>4.2</td>\n",
       "      <td>₹15,999</td>\n",
       "    </tr>\n",
       "    <tr>\n",
       "      <th>4</th>\n",
       "      <td>Infinix Note 40X 5G (Lime Green, 256 GB)</td>\n",
       "      <td>12 GB RAM | 256 GB ROM | Expandable Upto 1 TB1...</td>\n",
       "      <td>4.3</td>\n",
       "      <td>₹13,999</td>\n",
       "    </tr>\n",
       "    <tr>\n",
       "      <th>...</th>\n",
       "      <td>...</td>\n",
       "      <td>...</td>\n",
       "      <td>...</td>\n",
       "      <td>...</td>\n",
       "    </tr>\n",
       "    <tr>\n",
       "      <th>163</th>\n",
       "      <td>realme 12 5G (Woodland Green, 128 GB)</td>\n",
       "      <td>8 GB RAM | 128 GB ROM | Expandable Upto 2 TB17...</td>\n",
       "      <td>4.3</td>\n",
       "      <td>₹17,999</td>\n",
       "    </tr>\n",
       "    <tr>\n",
       "      <th>164</th>\n",
       "      <td>realme 11 5G (Glory Black, 128 GB)</td>\n",
       "      <td>8 GB RAM | 128 GB ROM | Expandable Upto 2 TB17...</td>\n",
       "      <td>4.3</td>\n",
       "      <td>₹18,999</td>\n",
       "    </tr>\n",
       "    <tr>\n",
       "      <th>165</th>\n",
       "      <td>realme 11 5G (Glory Gold, 128 GB)</td>\n",
       "      <td>8 GB RAM | 128 GB ROM | Expandable Upto 2 TB17...</td>\n",
       "      <td>4.3</td>\n",
       "      <td>₹18,999</td>\n",
       "    </tr>\n",
       "    <tr>\n",
       "      <th>166</th>\n",
       "      <td>SAMSUNG Galaxy M34 5G without charger (Midnigh...</td>\n",
       "      <td>6 GB RAM | 128 GB ROM16.51 cm (6.5 inch) Displ...</td>\n",
       "      <td>4.2</td>\n",
       "      <td>₹17,999</td>\n",
       "    </tr>\n",
       "    <tr>\n",
       "      <th>167</th>\n",
       "      <td>realme P1 Speed 5G (Brushed Blue, 128 GB)</td>\n",
       "      <td>8 GB RAM | 128 GB ROM | Expandable Upto 2 TB16...</td>\n",
       "      <td>4.3</td>\n",
       "      <td>₹17,999</td>\n",
       "    </tr>\n",
       "  </tbody>\n",
       "</table>\n",
       "<p>168 rows × 4 columns</p>\n",
       "</div>"
      ],
      "text/plain": [
       "                                          Product_name  \\\n",
       "0                      POCO C75 5G (Aqua Bliss, 64 GB)   \n",
       "1             Infinix Note 40 5G (Racing Grey, 256 GB)   \n",
       "2                Motorola G85 5G (Olive Green, 128 GB)   \n",
       "3                 Motorola g64 5G (Mint Green, 256 GB)   \n",
       "4             Infinix Note 40X 5G (Lime Green, 256 GB)   \n",
       "..                                                 ...   \n",
       "163              realme 12 5G (Woodland Green, 128 GB)   \n",
       "164                 realme 11 5G (Glory Black, 128 GB)   \n",
       "165                  realme 11 5G (Glory Gold, 128 GB)   \n",
       "166  SAMSUNG Galaxy M34 5G without charger (Midnigh...   \n",
       "167          realme P1 Speed 5G (Brushed Blue, 128 GB)   \n",
       "\n",
       "                                           Description Rating   Prices  \n",
       "0    4 GB RAM | 64 GB ROM | Expandable Upto 1 TB17....    4.3   ₹8,499  \n",
       "1    8 GB RAM | 256 GB ROM17.22 cm (6.78 inch) Full...    4.2  ₹15,999  \n",
       "2    8 GB RAM | 128 GB ROM16.94 cm (6.67 inch) Full...    4.5  ₹17,999  \n",
       "3    12 GB RAM | 256 GB ROM | Expandable Upto 1 TB1...    4.2  ₹15,999  \n",
       "4    12 GB RAM | 256 GB ROM | Expandable Upto 1 TB1...    4.3  ₹13,999  \n",
       "..                                                 ...    ...      ...  \n",
       "163  8 GB RAM | 128 GB ROM | Expandable Upto 2 TB17...    4.3  ₹17,999  \n",
       "164  8 GB RAM | 128 GB ROM | Expandable Upto 2 TB17...    4.3  ₹18,999  \n",
       "165  8 GB RAM | 128 GB ROM | Expandable Upto 2 TB17...    4.3  ₹18,999  \n",
       "166  6 GB RAM | 128 GB ROM16.51 cm (6.5 inch) Displ...    4.2  ₹17,999  \n",
       "167  8 GB RAM | 128 GB ROM | Expandable Upto 2 TB16...    4.3  ₹17,999  \n",
       "\n",
       "[168 rows x 4 columns]"
      ]
     },
     "execution_count": 36,
     "metadata": {},
     "output_type": "execute_result"
    }
   ],
   "source": [
    "df1=pd.DataFrame({\"Product_name\":product_name,\"Description\":Description,\"Rating\":rewiew,\"Prices\":prices})\n",
    "df1"
   ]
  },
  {
   "cell_type": "code",
   "execution_count": 25,
   "id": "437e0c28",
   "metadata": {},
   "outputs": [
    {
     "data": {
      "text/plain": [
       "168"
      ]
     },
     "execution_count": 25,
     "metadata": {},
     "output_type": "execute_result"
    }
   ],
   "source": [
    "len(product_name)"
   ]
  },
  {
   "cell_type": "code",
   "execution_count": 26,
   "id": "5653e990",
   "metadata": {},
   "outputs": [
    {
     "data": {
      "text/plain": [
       "168"
      ]
     },
     "execution_count": 26,
     "metadata": {},
     "output_type": "execute_result"
    }
   ],
   "source": [
    "len(prices)"
   ]
  },
  {
   "cell_type": "code",
   "execution_count": 27,
   "id": "c17d351e",
   "metadata": {},
   "outputs": [
    {
     "data": {
      "text/plain": [
       "168"
      ]
     },
     "execution_count": 27,
     "metadata": {},
     "output_type": "execute_result"
    }
   ],
   "source": [
    "len(Description)"
   ]
  },
  {
   "cell_type": "code",
   "execution_count": 28,
   "id": "db30f945",
   "metadata": {},
   "outputs": [
    {
     "data": {
      "text/plain": [
       "168"
      ]
     },
     "execution_count": 28,
     "metadata": {},
     "output_type": "execute_result"
    }
   ],
   "source": [
    "len(rewiew)"
   ]
  },
  {
   "cell_type": "code",
   "execution_count": 33,
   "id": "8750d1d9",
   "metadata": {},
   "outputs": [
    {
     "data": {
      "text/html": [
       "<div>\n",
       "<style scoped>\n",
       "    .dataframe tbody tr th:only-of-type {\n",
       "        vertical-align: middle;\n",
       "    }\n",
       "\n",
       "    .dataframe tbody tr th {\n",
       "        vertical-align: top;\n",
       "    }\n",
       "\n",
       "    .dataframe thead th {\n",
       "        text-align: right;\n",
       "    }\n",
       "</style>\n",
       "<table border=\"1\" class=\"dataframe\">\n",
       "  <thead>\n",
       "    <tr style=\"text-align: right;\">\n",
       "      <th></th>\n",
       "      <th>Product_name</th>\n",
       "      <th>Description</th>\n",
       "      <th>Rating</th>\n",
       "      <th>Prices</th>\n",
       "    </tr>\n",
       "  </thead>\n",
       "  <tbody>\n",
       "    <tr>\n",
       "      <th>0</th>\n",
       "      <td>POCO C75 5G (Aqua Bliss, 64 GB)</td>\n",
       "      <td>4 GB RAM | 64 GB ROM | Expandable Upto 1 TB17....</td>\n",
       "      <td>4.3</td>\n",
       "      <td>₹8,499</td>\n",
       "    </tr>\n",
       "    <tr>\n",
       "      <th>1</th>\n",
       "      <td>Infinix Note 40 5G (Racing Grey, 256 GB)</td>\n",
       "      <td>8 GB RAM | 256 GB ROM17.22 cm (6.78 inch) Full...</td>\n",
       "      <td>4.2</td>\n",
       "      <td>₹15,999</td>\n",
       "    </tr>\n",
       "    <tr>\n",
       "      <th>2</th>\n",
       "      <td>Motorola G85 5G (Olive Green, 128 GB)</td>\n",
       "      <td>8 GB RAM | 128 GB ROM16.94 cm (6.67 inch) Full...</td>\n",
       "      <td>4.5</td>\n",
       "      <td>₹17,999</td>\n",
       "    </tr>\n",
       "    <tr>\n",
       "      <th>3</th>\n",
       "      <td>Motorola g64 5G (Mint Green, 256 GB)</td>\n",
       "      <td>12 GB RAM | 256 GB ROM | Expandable Upto 1 TB1...</td>\n",
       "      <td>4.2</td>\n",
       "      <td>₹15,999</td>\n",
       "    </tr>\n",
       "    <tr>\n",
       "      <th>4</th>\n",
       "      <td>Infinix Note 40X 5G (Lime Green, 256 GB)</td>\n",
       "      <td>12 GB RAM | 256 GB ROM | Expandable Upto 1 TB1...</td>\n",
       "      <td>4.3</td>\n",
       "      <td>₹13,999</td>\n",
       "    </tr>\n",
       "    <tr>\n",
       "      <th>...</th>\n",
       "      <td>...</td>\n",
       "      <td>...</td>\n",
       "      <td>...</td>\n",
       "      <td>...</td>\n",
       "    </tr>\n",
       "    <tr>\n",
       "      <th>163</th>\n",
       "      <td>realme 12 5G (Woodland Green, 128 GB)</td>\n",
       "      <td>8 GB RAM | 128 GB ROM | Expandable Upto 2 TB17...</td>\n",
       "      <td>4.3</td>\n",
       "      <td>₹17,999</td>\n",
       "    </tr>\n",
       "    <tr>\n",
       "      <th>164</th>\n",
       "      <td>realme 11 5G (Glory Black, 128 GB)</td>\n",
       "      <td>8 GB RAM | 128 GB ROM | Expandable Upto 2 TB17...</td>\n",
       "      <td>4.3</td>\n",
       "      <td>₹18,999</td>\n",
       "    </tr>\n",
       "    <tr>\n",
       "      <th>165</th>\n",
       "      <td>realme 11 5G (Glory Gold, 128 GB)</td>\n",
       "      <td>8 GB RAM | 128 GB ROM | Expandable Upto 2 TB17...</td>\n",
       "      <td>4.3</td>\n",
       "      <td>₹18,999</td>\n",
       "    </tr>\n",
       "    <tr>\n",
       "      <th>166</th>\n",
       "      <td>SAMSUNG Galaxy M34 5G without charger (Midnigh...</td>\n",
       "      <td>6 GB RAM | 128 GB ROM16.51 cm (6.5 inch) Displ...</td>\n",
       "      <td>4.2</td>\n",
       "      <td>₹17,999</td>\n",
       "    </tr>\n",
       "    <tr>\n",
       "      <th>167</th>\n",
       "      <td>realme P1 Speed 5G (Brushed Blue, 128 GB)</td>\n",
       "      <td>8 GB RAM | 128 GB ROM | Expandable Upto 2 TB16...</td>\n",
       "      <td>4.3</td>\n",
       "      <td>₹17,999</td>\n",
       "    </tr>\n",
       "  </tbody>\n",
       "</table>\n",
       "<p>168 rows × 4 columns</p>\n",
       "</div>"
      ],
      "text/plain": [
       "                                          Product_name  \\\n",
       "0                      POCO C75 5G (Aqua Bliss, 64 GB)   \n",
       "1             Infinix Note 40 5G (Racing Grey, 256 GB)   \n",
       "2                Motorola G85 5G (Olive Green, 128 GB)   \n",
       "3                 Motorola g64 5G (Mint Green, 256 GB)   \n",
       "4             Infinix Note 40X 5G (Lime Green, 256 GB)   \n",
       "..                                                 ...   \n",
       "163              realme 12 5G (Woodland Green, 128 GB)   \n",
       "164                 realme 11 5G (Glory Black, 128 GB)   \n",
       "165                  realme 11 5G (Glory Gold, 128 GB)   \n",
       "166  SAMSUNG Galaxy M34 5G without charger (Midnigh...   \n",
       "167          realme P1 Speed 5G (Brushed Blue, 128 GB)   \n",
       "\n",
       "                                           Description Rating   Prices  \n",
       "0    4 GB RAM | 64 GB ROM | Expandable Upto 1 TB17....    4.3   ₹8,499  \n",
       "1    8 GB RAM | 256 GB ROM17.22 cm (6.78 inch) Full...    4.2  ₹15,999  \n",
       "2    8 GB RAM | 128 GB ROM16.94 cm (6.67 inch) Full...    4.5  ₹17,999  \n",
       "3    12 GB RAM | 256 GB ROM | Expandable Upto 1 TB1...    4.2  ₹15,999  \n",
       "4    12 GB RAM | 256 GB ROM | Expandable Upto 1 TB1...    4.3  ₹13,999  \n",
       "..                                                 ...    ...      ...  \n",
       "163  8 GB RAM | 128 GB ROM | Expandable Upto 2 TB17...    4.3  ₹17,999  \n",
       "164  8 GB RAM | 128 GB ROM | Expandable Upto 2 TB17...    4.3  ₹18,999  \n",
       "165  8 GB RAM | 128 GB ROM | Expandable Upto 2 TB17...    4.3  ₹18,999  \n",
       "166  6 GB RAM | 128 GB ROM16.51 cm (6.5 inch) Displ...    4.2  ₹17,999  \n",
       "167  8 GB RAM | 128 GB ROM | Expandable Upto 2 TB16...    4.3  ₹17,999  \n",
       "\n",
       "[168 rows x 4 columns]"
      ]
     },
     "execution_count": 33,
     "metadata": {},
     "output_type": "execute_result"
    }
   ],
   "source": [
    "df1"
   ]
  },
  {
   "cell_type": "code",
   "execution_count": null,
   "id": "9bc76275",
   "metadata": {},
   "outputs": [],
   "source": []
  },
  {
   "cell_type": "code",
   "execution_count": null,
   "id": "f34232ff",
   "metadata": {},
   "outputs": [],
   "source": []
  }
 ],
 "metadata": {
  "kernelspec": {
   "display_name": "Python 3 (ipykernel)",
   "language": "python",
   "name": "python3"
  },
  "language_info": {
   "codemirror_mode": {
    "name": "ipython",
    "version": 3
   },
   "file_extension": ".py",
   "mimetype": "text/x-python",
   "name": "python",
   "nbconvert_exporter": "python",
   "pygments_lexer": "ipython3",
   "version": "3.11.1"
  }
 },
 "nbformat": 4,
 "nbformat_minor": 5
}
